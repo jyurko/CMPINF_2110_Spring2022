{
 "cells": [
  {
   "cell_type": "markdown",
   "id": "9c3385c9",
   "metadata": {},
   "source": [
    "## CMPINF 2110 Spring 2022 - Week 02\n",
    "\n",
    "### Tidy data in the wildd - COVID19 NYTIMES data set"
   ]
  },
  {
   "cell_type": "code",
   "execution_count": 1,
   "id": "86fbfe3e",
   "metadata": {},
   "outputs": [],
   "source": [
    "import numpy as np\n",
    "import pandas as pd\n",
    "import matplotlib.pyplot as plt\n",
    "\n",
    "import seaborn as sns"
   ]
  },
  {
   "cell_type": "markdown",
   "id": "4711e3e9",
   "metadata": {},
   "source": [
    "## Read data\n",
    "\n",
    "Read the us-counties data set from the NY Times Covid-19 Github repo."
   ]
  },
  {
   "cell_type": "code",
   "execution_count": 2,
   "id": "989d82c0",
   "metadata": {},
   "outputs": [],
   "source": [
    "data_url = 'https://raw.githubusercontent.com/nytimes/covid-19-data/master/us-counties.csv'"
   ]
  },
  {
   "cell_type": "markdown",
   "id": "bc8b6fa2",
   "metadata": {},
   "source": [
    "Read in just a small number of rows for now."
   ]
  },
  {
   "cell_type": "code",
   "execution_count": 3,
   "id": "72e89edd",
   "metadata": {},
   "outputs": [],
   "source": [
    "usa_few = pd.read_csv(data_url, nrows=5000)"
   ]
  },
  {
   "cell_type": "code",
   "execution_count": null,
   "id": "6a4f4d66",
   "metadata": {},
   "outputs": [],
   "source": []
  }
 ],
 "metadata": {
  "kernelspec": {
   "display_name": "Python 3 (ipykernel)",
   "language": "python",
   "name": "python3"
  },
  "language_info": {
   "codemirror_mode": {
    "name": "ipython",
    "version": 3
   },
   "file_extension": ".py",
   "mimetype": "text/x-python",
   "name": "python",
   "nbconvert_exporter": "python",
   "pygments_lexer": "ipython3",
   "version": "3.8.12"
  }
 },
 "nbformat": 4,
 "nbformat_minor": 5
}
